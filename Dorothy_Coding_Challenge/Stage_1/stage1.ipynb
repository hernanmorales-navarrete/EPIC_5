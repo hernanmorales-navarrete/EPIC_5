{
  "cells": [
    {
      "cell_type": "markdown",
      "metadata": {
        "id": "view-in-github",
        "colab_type": "text"
      },
      "source": [
        "<a href=\"https://colab.research.google.com/github/wbandabarragan/EPIC_5/blob/main/Dorothy_Coding_Challenge/Stage_1/stage1.ipynb\" target=\"_parent\"><img src=\"https://colab.research.google.com/assets/colab-badge.svg\" alt=\"Open In Colab\"/></a>"
      ]
    },
    {
      "cell_type": "markdown",
      "id": "0d76094c",
      "metadata": {
        "_cell_guid": "b72ba319-c453-4c83-bf4d-f1ec0d63f255",
        "_uuid": "3e052da1-f941-4266-9cbe-2dc77f36fd7e",
        "papermill": {
          "duration": 0.127607,
          "end_time": "2022-01-26T10:09:39.595005",
          "exception": false,
          "start_time": "2022-01-26T10:09:39.467398",
          "status": "completed"
        },
        "tags": [],
        "id": "0d76094c"
      },
      "source": [
        "# Stage 1 Challenge\n",
        "\n",
        "Please provide your stage-1 group solutions within a single Jupyter notebook (*.ipynb).\n",
        "\n",
        "When you finish, please upload your solution notebook here:\n",
        "\n",
        "https://forms.gle/bmvUYeACiE9igb4T7\n",
        "\n",
        "\n",
        "**DEADLINE:** 11 May 2025 (by 23h59)\n",
        "\n",
        "\n",
        "\n",
        "## Exploratory Data Analysis (EDA): Summer Olympics Dataset"
      ]
    },
    {
      "cell_type": "markdown",
      "id": "dd16ad66",
      "metadata": {
        "_cell_guid": "3f5ac27e-336d-4bfd-b6cb-8bc155e22088",
        "_uuid": "c1975ea8-7a32-4717-bb72-98961fcb06e2",
        "heading_collapsed": true,
        "papermill": {
          "duration": 0.123486,
          "end_time": "2022-01-26T10:09:40.086375",
          "exception": false,
          "start_time": "2022-01-26T10:09:39.962889",
          "status": "completed"
        },
        "tags": [],
        "id": "dd16ad66"
      },
      "source": [
        "### What is Exploratory Data Analysis (EDA)?\n",
        "EDA is the essential first step in analyzing a dataset. It involves examining data to identify patterns, detect outliers, evaluate different machine learning models, and verify assumptions through the use of statistics and scientific visualization."
      ]
    },
    {
      "cell_type": "markdown",
      "id": "904a0cc1",
      "metadata": {
        "_cell_guid": "65e7f5bd-6743-4c55-b750-3e083fc6eb8b",
        "_uuid": "f8da90a8-2ae9-4c21-9e16-20846f43de7e",
        "heading_collapsed": true,
        "papermill": {
          "duration": 0.121312,
          "end_time": "2022-01-26T10:09:40.573779",
          "exception": false,
          "start_time": "2022-01-26T10:09:40.452467",
          "status": "completed"
        },
        "tags": [],
        "id": "904a0cc1"
      },
      "source": [
        "### A Brief Outline Of The Dataset\n",
        "\n",
        "- This dataset provides a comprehensive record of the modern Olympic Games, covering events from the 1896 Athens Olympics up to the 2016 Rio Olympics.\n",
        "\n",
        "- The dataset includes 271,116 entries and 15 attributes in total.\n",
        "\n",
        "- Each entry represents an individual athlete participating in a specific Olympic event (i.e., athlete-event combinations).\n",
        "The attributes capture various details such as:\n",
        "\n",
        "    - ID – A unique identifier for each athlete\n",
        "    - Name – Athlete’s full name\n",
        "    - Sex – Gender (M or F)\n",
        "    - Age – Age in years\n",
        "    - Height – Measured in centimeters\n",
        "    - Weight – Measured in kilograms\n",
        "    - Team – Name of the team or country represented\n",
        "    - Medal – Type of medal won (Gold, Silver, Bronze)"
      ]
    },
    {
      "cell_type": "markdown",
      "id": "463a1bb4",
      "metadata": {
        "_cell_guid": "c97571b2-cdab-4afd-afc6-26bd0a2309cf",
        "_uuid": "fe1bca39-5d1b-4c31-a63e-eee744b56d1e",
        "papermill": {
          "duration": 0.121868,
          "end_time": "2022-01-26T10:09:41.059607",
          "exception": false,
          "start_time": "2022-01-26T10:09:40.937739",
          "status": "completed"
        },
        "tags": [],
        "id": "463a1bb4"
      },
      "source": [
        "## Downloading The Data And Importing Libraries"
      ]
    },
    {
      "cell_type": "markdown",
      "id": "68ce7cef",
      "metadata": {
        "id": "68ce7cef"
      },
      "source": [
        "##  Task 1: Load Data & Import Libraries\n",
        "\n",
        "**Goal:** Set up your environment and download the dataset for analysis.\n",
        "\n",
        "### Instructions:\n",
        "\n",
        "1. Download the dataset using `opendatasets`.  \n",
        "   - Dataset URL: https://www.kaggle.com/datasets/heesoo37/120-years-of-olympic-history-athletes-and-results  \n",
        "   - You may need to provide your Kaggle API credentials.\n",
        "\n",
        "\n",
        "2. Set file paths for:\n",
        "   - `athlete_data_filename` → `athlete_events.csv`\n",
        "   - `regions_data_filename` → `noc_regions.csv`\n",
        "\n",
        "\n",
        "3. Install and import the following libraries:\n",
        "   - `pandas`, `numpy`\n",
        "   - `matplotlib.pyplot`, `seaborn`\n",
        "   - `plotly.express`\n",
        "   - `ListedColormap` from `matplotlib.colors`\n",
        "\n",
        "\n",
        "**Expected Output:**\n",
        "\n",
        "- Dataset downloaded\n",
        "\n",
        "- All libraries successfully imported\n",
        "\n",
        "- File paths assigned\n"
      ]
    },
    {
      "cell_type": "markdown",
      "id": "9ec63998",
      "metadata": {
        "id": "9ec63998"
      },
      "source": [
        "##  Task 2: Set Plot Style and Color Palette\n",
        "\n",
        "**Goal:** Customize the appearance of your plots for consistent and clean visuals.\n",
        "\n",
        "### Instructions:\n",
        "1. Set the global style for all plots using `plt.style.use()`.  \n",
        "   - Use `'ggplot'` for a simple, clean base style.\n",
        "\n",
        "2. Define a custom color palette:\n",
        "   - Use a list of hex color codes.\n",
        "   - Example: `[\"#0a2e36\", \"#27FB6B\", \"#14cc60\", \"#036d19\", \"#09a129\"]`\n",
        "\n",
        "3. Apply the color palette using Seaborn:\n",
        "   - Use `sns.set_palette()`.\n",
        "\n",
        "**Expected Output:**\n",
        "\n",
        "- Style applied.\n",
        "\n",
        "- Custom color palette preview shown.\n"
      ]
    },
    {
      "cell_type": "markdown",
      "id": "252b9bba",
      "metadata": {
        "_cell_guid": "3cefbf41-2747-45be-a3de-d3a1e7e10fd5",
        "_uuid": "790870f9-de3e-45de-91ab-00bed99bddfb",
        "papermill": {
          "duration": 0.123355,
          "end_time": "2022-01-26T10:09:55.475707",
          "exception": false,
          "start_time": "2022-01-26T10:09:55.352352",
          "status": "completed"
        },
        "tags": [],
        "id": "252b9bba"
      },
      "source": [
        "## Task 3: Data Preparation\n",
        "\n",
        "**Goal:** Prepare data for analysis.\n",
        "\n",
        "###  Steps:\n",
        "\n",
        "1. Load the file using pandas.\n",
        "\n",
        "2. Look for some of the information about the data and the columns.\n",
        "\n",
        "3. Fix any of the missing or incorrect values.\n",
        "\n",
        "4. Which, and how much data types are in the dataset.\n",
        "\n",
        "5. List the minimum age on the competence.\n",
        "\n",
        "The focus of this EDA project will solely be on the \"Summer Olympics\", filter of all the \"Winter Olympics Games\" from the dataset."
      ]
    },
    {
      "cell_type": "markdown",
      "id": "f0504d32",
      "metadata": {
        "_cell_guid": "c304c203-5009-4e12-ae94-396c3b7b4689",
        "_uuid": "9dd13f6e-3722-4d72-8018-856c342859dc",
        "papermill": {
          "duration": 0.128118,
          "end_time": "2022-01-26T10:10:03.387995",
          "exception": false,
          "start_time": "2022-01-26T10:10:03.259877",
          "status": "completed"
        },
        "tags": [],
        "id": "f0504d32"
      },
      "source": [
        "## Task 4: Merging The Two Datasets Into One\n",
        "\n",
        "**Goal:** Merge datasets.\n",
        "\n",
        "Before we can begin analyzing the data, we need to combine the two datasets:  \n",
        "- `athlete_events.csv` (athlete information)\n",
        "- `noc_regions.csv` (region/country information)\n",
        "\n",
        "Use the `pandas.merge()` function to do this.\n",
        "\n",
        "###  Steps:\n",
        "\n",
        "1. **Call `pd.merge()`**  \n",
        "   This function merges two DataFrames based on one or more common columns (known as keys).\n",
        "\n",
        "2. **Set merge type and key**  \n",
        "   We'll perform a **left join** on the `NOC` column:\n",
        "   - This keeps **all records** from `athlete_events` (left DataFrame).\n",
        "   - It adds matching `region` data from `noc_regions` (right DataFrame).\n",
        "   - Rows with no match in the right DataFrame will have `NaN` values in those columns.\n",
        "\n"
      ]
    },
    {
      "cell_type": "markdown",
      "id": "20a91d57",
      "metadata": {
        "_cell_guid": "c0073fcf-710a-43ab-bd02-f5173f25d80b",
        "_uuid": "b376137a-cfea-4dd1-85db-4bb324202eff",
        "papermill": {
          "duration": 0.139769,
          "end_time": "2022-01-26T10:10:04.716579",
          "exception": false,
          "start_time": "2022-01-26T10:10:04.576810",
          "status": "completed"
        },
        "tags": [],
        "id": "20a91d57"
      },
      "source": [
        "## Task 5: Finding and Replacing The Null Values In Our Dataset\n",
        "\n",
        "**Goal:** Data cleaning and exploratory analysis.\n",
        "\n",
        "### Cleaning Tasks:\n",
        "\n",
        "- Visualize the distribution of missing values using pie charts or bar plots.\n",
        "\n",
        "- Calculate and list the percentage of null values for each column. Replace missing values with the mean of the respective column when appropriate.\n",
        "\n",
        "- Remove duplicate entries from the dataset to ensure accuracy.\n",
        "\n",
        "### Exploratory Questions:\n",
        "\n",
        "1. Which country has sent the most athletes to the Summer Olympics?\n",
        "\n",
        "2. How has the number of athletes, countries, and events changed over time?\n",
        "\n",
        "3. Which nations have won the most Olympic medals?\n",
        "\n",
        "4. How has participation by male and female athletes evolved over time?\n",
        "\n",
        "5. What is the correlation between the height and weight of Olympic participants?\n",
        "\n",
        "6. In which sports has India won Olympic medals?\n",
        "\n",
        "7. Which sports have contributed the most medals overall?"
      ]
    },
    {
      "cell_type": "markdown",
      "id": "cb470a63",
      "metadata": {
        "_cell_guid": "60f10d15-22d3-4b73-93d9-801e45e8d056",
        "_uuid": "c836d217-8ea9-4452-a45f-1fbc4a7cf1e1",
        "papermill": {
          "duration": 0.140885,
          "end_time": "2022-01-26T10:10:19.493645",
          "exception": false,
          "start_time": "2022-01-26T10:10:19.352760",
          "status": "completed"
        },
        "tags": [],
        "id": "cb470a63"
      },
      "source": [
        "##  Task 6: Exploratory Analysis and Visualisations\n",
        "\n",
        "**Goal:** Data analysis and visualization."
      ]
    },
    {
      "cell_type": "markdown",
      "id": "d9a41fb1",
      "metadata": {
        "_cell_guid": "cf663350-92a3-4cad-a50d-4c9649739a9b",
        "_uuid": "cb0fb162-2e31-4990-a6bd-beec952be578",
        "papermill": {
          "duration": 0.140295,
          "end_time": "2022-01-26T10:10:19.773711",
          "exception": false,
          "start_time": "2022-01-26T10:10:19.633416",
          "status": "completed"
        },
        "tags": [],
        "id": "d9a41fb1"
      },
      "source": [
        "### 1. Create a word-cloud that graphically shows the nations that have sent the maximum number of athletes over the years."
      ]
    },
    {
      "cell_type": "markdown",
      "id": "e7cf7b94",
      "metadata": {
        "_cell_guid": "90edbd5d-0793-4c01-b6cc-b6b5f783afe7",
        "_uuid": "566b18b4-29ac-4383-ac2c-0c29c490e35b",
        "papermill": {
          "duration": 0.150913,
          "end_time": "2022-01-26T10:10:31.374564",
          "exception": false,
          "start_time": "2022-01-26T10:10:31.223651",
          "status": "completed"
        },
        "tags": [],
        "id": "e7cf7b94"
      },
      "source": [
        "### 2. Show the relation between various features and labels in the Olympics dataset and infere/discuss any trends and correlations."
      ]
    },
    {
      "cell_type": "markdown",
      "id": "ef85d4fb",
      "metadata": {
        "_cell_guid": "9520b1d5-3c04-42cf-a35f-2123ebeee4fb",
        "_uuid": "15b476b7-485c-4090-add1-c4f6a710b61b",
        "papermill": {
          "duration": 0.167975,
          "end_time": "2022-01-26T10:10:56.631883",
          "exception": false,
          "start_time": "2022-01-26T10:10:56.463908",
          "status": "completed"
        },
        "tags": [],
        "id": "ef85d4fb"
      },
      "source": [
        "### 3. Make a plot of the overall spread of the age of athletes in the Summer Olympics and discuss your findings."
      ]
    },
    {
      "cell_type": "markdown",
      "id": "0854a1b9",
      "metadata": {
        "_cell_guid": "f5477319-f96f-49b4-965f-d854c7e676a1",
        "_uuid": "b7247485-c118-4552-bd35-fdc6cf4b515f",
        "papermill": {
          "duration": 0.237761,
          "end_time": "2022-01-26T10:11:01.443465",
          "exception": false,
          "start_time": "2022-01-26T10:11:01.205704",
          "status": "completed"
        },
        "tags": [],
        "id": "0854a1b9"
      },
      "source": [
        "### 4. Make a plot of the number of participants in the Summer Olympics over the years and discuss the overall trends."
      ]
    },
    {
      "cell_type": "markdown",
      "id": "bf8d6ea4",
      "metadata": {
        "_cell_guid": "6ae68a7a-8137-468e-9038-4fa118ad11aa",
        "_uuid": "790cb55e-6a07-4e4e-bdeb-066c84335cf3",
        "papermill": {
          "duration": 0.235288,
          "end_time": "2022-01-26T10:11:04.724734",
          "exception": false,
          "start_time": "2022-01-26T10:11:04.489446",
          "status": "completed"
        },
        "tags": [],
        "id": "bf8d6ea4"
      },
      "source": [
        "### 5. Describe the variation in the number of female participants over the years in the Summer Olympics."
      ]
    },
    {
      "cell_type": "markdown",
      "id": "b716fc6a",
      "metadata": {
        "_cell_guid": "5b7d161f-322d-4a8e-8a97-cb3a7347bd57",
        "_uuid": "d6c4676a-02f3-45ee-ad6d-5120ca2ad9e0",
        "papermill": {
          "duration": 0.264565,
          "end_time": "2022-01-26T10:11:07.197681",
          "exception": false,
          "start_time": "2022-01-26T10:11:06.933116",
          "status": "completed"
        },
        "tags": [],
        "id": "b716fc6a"
      },
      "source": [
        "### 6. Show graphically the variation of the number of female participants in comparison to male participants over the years."
      ]
    },
    {
      "cell_type": "markdown",
      "id": "c0b7ed36",
      "metadata": {
        "_cell_guid": "a1ceca06-1d3a-4c7d-b393-56716108f054",
        "_uuid": "fe97a874-6681-43a6-9bde-9a3ba43f07d2",
        "papermill": {
          "duration": 0.240834,
          "end_time": "2022-01-26T10:11:10.110135",
          "exception": false,
          "start_time": "2022-01-26T10:11:09.869301",
          "status": "completed"
        },
        "tags": [],
        "id": "c0b7ed36"
      },
      "source": [
        "### 7. Create a scatter plot of the relationship between Height Vs Weight Vs Age of participants across sports. Any conclusions?\n"
      ]
    },
    {
      "cell_type": "markdown",
      "id": "409aaefa",
      "metadata": {
        "_cell_guid": "a8a2f592-1bd4-4f42-aad6-fb3dbf7b8589",
        "_uuid": "ff887846-6990-4985-b1c5-ec81236bce8e",
        "papermill": {
          "duration": 0.361894,
          "end_time": "2022-01-26T10:11:14.188401",
          "exception": false,
          "start_time": "2022-01-26T10:11:13.826507",
          "status": "completed"
        },
        "tags": [],
        "id": "409aaefa"
      },
      "source": [
        "### 8. Find and list the top 10 nations that have won the most Gold, Silver, and Bronze Medals, respectively, in the history of the Summer Olympics."
      ]
    },
    {
      "cell_type": "markdown",
      "id": "3c59141e",
      "metadata": {
        "_cell_guid": "618540a4-f410-407f-a165-e7d71e1167d1",
        "_uuid": "24f5820b-9e7b-4da3-9cfb-3df9c71a0d92",
        "papermill": {
          "duration": 0.369061,
          "end_time": "2022-01-26T10:11:29.722287",
          "exception": false,
          "start_time": "2022-01-26T10:11:29.353226",
          "status": "completed"
        },
        "tags": [],
        "id": "3c59141e"
      },
      "source": [
        "### 9. Create a word-cloud showing sports in which India has won medals over the years."
      ]
    },
    {
      "cell_type": "markdown",
      "id": "1f28cbb4",
      "metadata": {
        "_cell_guid": "3f74b27b-163a-4680-bcee-29388af17700",
        "_uuid": "053f0a22-8bfb-4e3f-9591-81886c0391b4",
        "papermill": {
          "duration": 0.40664,
          "end_time": "2022-01-26T10:11:40.356578",
          "exception": false,
          "start_time": "2022-01-26T10:11:39.949938",
          "status": "completed"
        },
        "tags": [],
        "id": "1f28cbb4"
      },
      "source": [
        "### 10. Look up and list the top 3 female athletes by the number of awarded medals across all sports."
      ]
    },
    {
      "cell_type": "markdown",
      "id": "e5e5b0aa",
      "metadata": {
        "_cell_guid": "2dc88cdb-9c8f-4669-b943-09678aa647bf",
        "_uuid": "55eefdcc-0c7f-4de0-b8b7-2bc568b4bd07",
        "papermill": {
          "duration": 0.384201,
          "end_time": "2022-01-26T10:12:50.799553",
          "exception": false,
          "start_time": "2022-01-26T10:12:50.415352",
          "status": "completed"
        },
        "tags": [],
        "id": "e5e5b0aa"
      },
      "source": [
        "# Optional: Additional tasks\n",
        "\n",
        "- Make a Choropleth Map mark the countries and explain why there is a sudden exponential drop in the number of participants at three instances in the historical timeline of the Olympics.\n",
        "\n",
        "- Does Wealth (GDP) have any effect on a country's performance in the Olympics?\n",
        "\n",
        "You can use this dataset for this:  [GDP dataset](https://github.com/bhushanrane29/Summer-Olympics-EDA/blob/master/gdp_data.csv) that can merged with the above dataset to perform this analysis.\n",
        "\n",
        "- What is the relation between a countries climate and their olympic medal tally?\n",
        "\n",
        "- Does home advantage give countries an edge in their medals tally? (Linearcurve)\n",
        "\n",
        "- Does an athele's height have any role to play in winning an olympic medal? (Heatmap)\n",
        "\n",
        "- You can add the Paralympics dataset to this [link](https://www.kaggle.com/shivagovindasamy/2020-tokyo-paralympics) data too\n",
        "\n",
        "- Replace the pie charts with sunburst charts at places where it is possible"
      ]
    }
  ],
  "metadata": {
    "kernelspec": {
      "display_name": "Python 3 (ipykernel)",
      "language": "python",
      "name": "python3"
    },
    "language_info": {
      "codemirror_mode": {
        "name": "ipython",
        "version": 3
      },
      "file_extension": ".py",
      "mimetype": "text/x-python",
      "name": "python",
      "nbconvert_exporter": "python",
      "pygments_lexer": "ipython3",
      "version": "3.9.15"
    },
    "papermill": {
      "default_parameters": {},
      "duration": 204.743443,
      "end_time": "2022-01-26T10:12:54.533518",
      "environment_variables": {},
      "exception": null,
      "input_path": "__notebook__.ipynb",
      "output_path": "__notebook__.ipynb",
      "parameters": {},
      "start_time": "2022-01-26T10:09:29.790075",
      "version": "2.3.3"
    },
    "colab": {
      "provenance": [],
      "include_colab_link": true
    }
  },
  "nbformat": 4,
  "nbformat_minor": 5
}